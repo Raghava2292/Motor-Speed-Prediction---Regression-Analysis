{
 "cells": [
  {
   "cell_type": "code",
   "execution_count": 1,
   "id": "db9315fc",
   "metadata": {
    "ExecuteTime": {
     "end_time": "2023-07-06T09:47:18.343785Z",
     "start_time": "2023-07-06T09:47:17.009594Z"
    }
   },
   "outputs": [],
   "source": [
    "import pandas as pd\n",
    "import warnings\n",
    "warnings.filterwarnings('ignore')"
   ]
  },
  {
   "cell_type": "code",
   "execution_count": 2,
   "id": "b770d96a",
   "metadata": {
    "ExecuteTime": {
     "end_time": "2023-07-06T09:47:20.846282Z",
     "start_time": "2023-07-06T09:47:20.246847Z"
    }
   },
   "outputs": [
    {
     "data": {
      "text/html": [
       "<div>\n",
       "<style scoped>\n",
       "    .dataframe tbody tr th:only-of-type {\n",
       "        vertical-align: middle;\n",
       "    }\n",
       "\n",
       "    .dataframe tbody tr th {\n",
       "        vertical-align: top;\n",
       "    }\n",
       "\n",
       "    .dataframe thead th {\n",
       "        text-align: right;\n",
       "    }\n",
       "</style>\n",
       "<table border=\"1\" class=\"dataframe\">\n",
       "  <thead>\n",
       "    <tr style=\"text-align: right;\">\n",
       "      <th></th>\n",
       "      <th>u_d</th>\n",
       "      <th>u_q</th>\n",
       "      <th>i_d</th>\n",
       "      <th>pm</th>\n",
       "      <th>motor_speed</th>\n",
       "    </tr>\n",
       "  </thead>\n",
       "  <tbody>\n",
       "    <tr>\n",
       "      <th>0</th>\n",
       "      <td>0.327935</td>\n",
       "      <td>-1.297858</td>\n",
       "      <td>1.029572</td>\n",
       "      <td>-2.522071</td>\n",
       "      <td>-1.222428</td>\n",
       "    </tr>\n",
       "    <tr>\n",
       "      <th>1</th>\n",
       "      <td>0.329665</td>\n",
       "      <td>-1.297686</td>\n",
       "      <td>1.029509</td>\n",
       "      <td>-2.522418</td>\n",
       "      <td>-1.222429</td>\n",
       "    </tr>\n",
       "    <tr>\n",
       "      <th>2</th>\n",
       "      <td>0.332771</td>\n",
       "      <td>-1.301822</td>\n",
       "      <td>1.029448</td>\n",
       "      <td>-2.522673</td>\n",
       "      <td>-1.222428</td>\n",
       "    </tr>\n",
       "    <tr>\n",
       "      <th>3</th>\n",
       "      <td>0.333700</td>\n",
       "      <td>-1.301852</td>\n",
       "      <td>1.032845</td>\n",
       "      <td>-2.521639</td>\n",
       "      <td>-1.222430</td>\n",
       "    </tr>\n",
       "    <tr>\n",
       "      <th>4</th>\n",
       "      <td>0.335206</td>\n",
       "      <td>-1.303118</td>\n",
       "      <td>1.031807</td>\n",
       "      <td>-2.521900</td>\n",
       "      <td>-1.222429</td>\n",
       "    </tr>\n",
       "    <tr>\n",
       "      <th>...</th>\n",
       "      <td>...</td>\n",
       "      <td>...</td>\n",
       "      <td>...</td>\n",
       "      <td>...</td>\n",
       "      <td>...</td>\n",
       "    </tr>\n",
       "    <tr>\n",
       "      <th>998065</th>\n",
       "      <td>0.331475</td>\n",
       "      <td>-1.246114</td>\n",
       "      <td>1.029142</td>\n",
       "      <td>0.429853</td>\n",
       "      <td>-1.222428</td>\n",
       "    </tr>\n",
       "    <tr>\n",
       "      <th>998066</th>\n",
       "      <td>0.331701</td>\n",
       "      <td>-1.250655</td>\n",
       "      <td>1.029148</td>\n",
       "      <td>0.429751</td>\n",
       "      <td>-1.222437</td>\n",
       "    </tr>\n",
       "    <tr>\n",
       "      <th>998067</th>\n",
       "      <td>0.330946</td>\n",
       "      <td>-1.246852</td>\n",
       "      <td>1.029191</td>\n",
       "      <td>0.429439</td>\n",
       "      <td>-1.222430</td>\n",
       "    </tr>\n",
       "    <tr>\n",
       "      <th>998068</th>\n",
       "      <td>0.330987</td>\n",
       "      <td>-1.249505</td>\n",
       "      <td>1.029147</td>\n",
       "      <td>0.429558</td>\n",
       "      <td>-1.222432</td>\n",
       "    </tr>\n",
       "    <tr>\n",
       "      <th>998069</th>\n",
       "      <td>0.330830</td>\n",
       "      <td>-1.246590</td>\n",
       "      <td>1.029141</td>\n",
       "      <td>0.429166</td>\n",
       "      <td>-1.222431</td>\n",
       "    </tr>\n",
       "  </tbody>\n",
       "</table>\n",
       "<p>848914 rows × 5 columns</p>\n",
       "</div>"
      ],
      "text/plain": [
       "             u_d       u_q       i_d        pm  motor_speed\n",
       "0       0.327935 -1.297858  1.029572 -2.522071    -1.222428\n",
       "1       0.329665 -1.297686  1.029509 -2.522418    -1.222429\n",
       "2       0.332771 -1.301822  1.029448 -2.522673    -1.222428\n",
       "3       0.333700 -1.301852  1.032845 -2.521639    -1.222430\n",
       "4       0.335206 -1.303118  1.031807 -2.521900    -1.222429\n",
       "...          ...       ...       ...       ...          ...\n",
       "998065  0.331475 -1.246114  1.029142  0.429853    -1.222428\n",
       "998066  0.331701 -1.250655  1.029148  0.429751    -1.222437\n",
       "998067  0.330946 -1.246852  1.029191  0.429439    -1.222430\n",
       "998068  0.330987 -1.249505  1.029147  0.429558    -1.222432\n",
       "998069  0.330830 -1.246590  1.029141  0.429166    -1.222431\n",
       "\n",
       "[848914 rows x 5 columns]"
      ]
     },
     "execution_count": 2,
     "metadata": {},
     "output_type": "execute_result"
    }
   ],
   "source": [
    "data = pd.read_csv('temperature_data_vif.csv', index_col=0)\n",
    "data"
   ]
  },
  {
   "cell_type": "code",
   "execution_count": 3,
   "id": "daeb073b",
   "metadata": {
    "ExecuteTime": {
     "end_time": "2023-07-06T09:47:41.260234Z",
     "start_time": "2023-07-06T09:47:41.225683Z"
    }
   },
   "outputs": [],
   "source": [
    "X = data[['u_d', 'u_q', 'i_d', 'pm']]\n",
    "y = data[['motor_speed']]"
   ]
  },
  {
   "cell_type": "markdown",
   "id": "b34df903",
   "metadata": {},
   "source": [
    "------------------\n",
    "\n",
    "Before training the model it would be better to find the proper hyperparameters that would gives the best possible results. So tuning of different hyperparameters is needed before training the model. These parameters are batch size, number of epochs, drop out rate, learning rate, number of neurons in hidden layers, the activation function and the kernel initializer."
   ]
  },
  {
   "cell_type": "markdown",
   "id": "c3d11083",
   "metadata": {},
   "source": [
    "#### Tuning of Hyperparameters :- Batch Size and Epochs"
   ]
  },
  {
   "cell_type": "code",
   "execution_count": 4,
   "id": "13878d13",
   "metadata": {
    "ExecuteTime": {
     "end_time": "2023-07-06T09:48:00.044801Z",
     "start_time": "2023-07-06T09:47:51.280676Z"
    }
   },
   "outputs": [],
   "source": [
    "# Importing the necessary packages\n",
    "from sklearn.model_selection import GridSearchCV, KFold\n",
    "from keras.models import Sequential\n",
    "from keras.layers import Dense\n",
    "from keras.wrappers.scikit_learn import KerasRegressor\n",
    "from tensorflow.keras.optimizers import Adam"
   ]
  },
  {
   "cell_type": "code",
   "execution_count": 5,
   "id": "597aceed",
   "metadata": {
    "ExecuteTime": {
     "end_time": "2023-07-06T09:48:01.517435Z",
     "start_time": "2023-07-06T09:48:01.506464Z"
    }
   },
   "outputs": [],
   "source": [
    "# create model\n",
    "# kernel_initializer is the weight initializer\n",
    "# linear or step activation for regression problems.\n",
    "def create_model():\n",
    "    model = Sequential()\n",
    "    model.add(Dense(12, input_dim=4, kernel_initializer='random_uniform', activation='relu'))\n",
    "    model.add(Dense(8, kernel_initializer='random_uniform', activation='relu'))\n",
    "    model.add(Dense(1, kernel_initializer='random_uniform', activation='linear'))\n",
    "    \n",
    "    adam=Adam(lr=0.01)\n",
    "    model.compile(loss='mean_squared_error', optimizer=adam, metrics=['MeanSquaredError'])\n",
    "    return model"
   ]
  },
  {
   "cell_type": "code",
   "execution_count": 6,
   "id": "0ae0842c",
   "metadata": {
    "ExecuteTime": {
     "end_time": "2023-07-06T09:55:09.511920Z",
     "start_time": "2023-07-06T09:48:10.972816Z"
    }
   },
   "outputs": [
    {
     "name": "stdout",
     "output_type": "stream",
     "text": [
      "Fitting 5 folds for each of 6 candidates, totalling 30 fits\n",
      "[CV 1/5; 1/6] START batch_size=512, epochs=5....................................\n",
      "[CV 1/5; 1/6] END ....batch_size=512, epochs=5;, score=-0.026 total time=  12.7s\n",
      "[CV 2/5; 1/6] START batch_size=512, epochs=5....................................\n",
      "[CV 2/5; 1/6] END ....batch_size=512, epochs=5;, score=-0.016 total time=  13.3s\n",
      "[CV 3/5; 1/6] START batch_size=512, epochs=5....................................\n",
      "[CV 3/5; 1/6] END ....batch_size=512, epochs=5;, score=-0.011 total time=  13.5s\n",
      "[CV 4/5; 1/6] START batch_size=512, epochs=5....................................\n",
      "[CV 4/5; 1/6] END ....batch_size=512, epochs=5;, score=-0.004 total time=  13.6s\n",
      "[CV 5/5; 1/6] START batch_size=512, epochs=5....................................\n",
      "[CV 5/5; 1/6] END ....batch_size=512, epochs=5;, score=-0.003 total time=  13.8s\n",
      "[CV 1/5; 2/6] START batch_size=512, epochs=10...................................\n",
      "[CV 1/5; 2/6] END ...batch_size=512, epochs=10;, score=-0.019 total time=  26.0s\n",
      "[CV 2/5; 2/6] START batch_size=512, epochs=10...................................\n",
      "[CV 2/5; 2/6] END ...batch_size=512, epochs=10;, score=-0.008 total time=  26.7s\n",
      "[CV 3/5; 2/6] START batch_size=512, epochs=10...................................\n",
      "[CV 3/5; 2/6] END ...batch_size=512, epochs=10;, score=-0.009 total time=  26.5s\n",
      "[CV 4/5; 2/6] START batch_size=512, epochs=10...................................\n",
      "[CV 4/5; 2/6] END ...batch_size=512, epochs=10;, score=-0.004 total time=  28.4s\n",
      "[CV 5/5; 2/6] START batch_size=512, epochs=10...................................\n",
      "[CV 5/5; 2/6] END ...batch_size=512, epochs=10;, score=-0.004 total time=  30.0s\n",
      "[CV 1/5; 3/6] START batch_size=1024, epochs=5...................................\n",
      "[CV 1/5; 3/6] END ...batch_size=1024, epochs=5;, score=-0.018 total time=   8.1s\n",
      "[CV 2/5; 3/6] START batch_size=1024, epochs=5...................................\n",
      "[CV 2/5; 3/6] END ...batch_size=1024, epochs=5;, score=-0.012 total time=   7.6s\n",
      "[CV 3/5; 3/6] START batch_size=1024, epochs=5...................................\n",
      "[CV 3/5; 3/6] END ...batch_size=1024, epochs=5;, score=-0.011 total time=   7.9s\n",
      "[CV 4/5; 3/6] START batch_size=1024, epochs=5...................................\n",
      "[CV 4/5; 3/6] END ...batch_size=1024, epochs=5;, score=-0.004 total time=   7.6s\n",
      "[CV 5/5; 3/6] START batch_size=1024, epochs=5...................................\n",
      "[CV 5/5; 3/6] END ...batch_size=1024, epochs=5;, score=-0.004 total time=   8.0s\n",
      "[CV 1/5; 4/6] START batch_size=1024, epochs=10..................................\n",
      "[CV 1/5; 4/6] END ..batch_size=1024, epochs=10;, score=-0.026 total time=  14.4s\n",
      "[CV 2/5; 4/6] START batch_size=1024, epochs=10..................................\n",
      "[CV 2/5; 4/6] END ..batch_size=1024, epochs=10;, score=-0.010 total time=  14.4s\n",
      "[CV 3/5; 4/6] START batch_size=1024, epochs=10..................................\n",
      "[CV 3/5; 4/6] END ..batch_size=1024, epochs=10;, score=-0.009 total time=  14.4s\n",
      "[CV 4/5; 4/6] START batch_size=1024, epochs=10..................................\n",
      "[CV 4/5; 4/6] END ..batch_size=1024, epochs=10;, score=-0.004 total time=  14.4s\n",
      "[CV 5/5; 4/6] START batch_size=1024, epochs=10..................................\n",
      "[CV 5/5; 4/6] END ..batch_size=1024, epochs=10;, score=-0.003 total time=  14.2s\n",
      "[CV 1/5; 5/6] START batch_size=2048, epochs=5...................................\n",
      "[CV 1/5; 5/6] END ...batch_size=2048, epochs=5;, score=-0.016 total time=   5.3s\n",
      "[CV 2/5; 5/6] START batch_size=2048, epochs=5...................................\n",
      "[CV 2/5; 5/6] END ...batch_size=2048, epochs=5;, score=-0.013 total time=   4.5s\n",
      "[CV 3/5; 5/6] START batch_size=2048, epochs=5...................................\n",
      "[CV 3/5; 5/6] END ...batch_size=2048, epochs=5;, score=-0.010 total time=   4.5s\n",
      "[CV 4/5; 5/6] START batch_size=2048, epochs=5...................................\n",
      "[CV 4/5; 5/6] END ...batch_size=2048, epochs=5;, score=-0.005 total time=   5.1s\n",
      "[CV 5/5; 5/6] START batch_size=2048, epochs=5...................................\n",
      "[CV 5/5; 5/6] END ...batch_size=2048, epochs=5;, score=-0.005 total time=   4.7s\n",
      "[CV 1/5; 6/6] START batch_size=2048, epochs=10..................................\n",
      "[CV 1/5; 6/6] END ..batch_size=2048, epochs=10;, score=-0.021 total time=   8.5s\n",
      "[CV 2/5; 6/6] START batch_size=2048, epochs=10..................................\n",
      "[CV 2/5; 6/6] END ..batch_size=2048, epochs=10;, score=-0.013 total time=   8.9s\n",
      "[CV 3/5; 6/6] START batch_size=2048, epochs=10..................................\n",
      "[CV 3/5; 6/6] END ..batch_size=2048, epochs=10;, score=-0.009 total time=   9.1s\n",
      "[CV 4/5; 6/6] START batch_size=2048, epochs=10..................................\n",
      "[CV 4/5; 6/6] END ..batch_size=2048, epochs=10;, score=-0.003 total time=   8.3s\n",
      "[CV 5/5; 6/6] START batch_size=2048, epochs=10..................................\n",
      "[CV 5/5; 6/6] END ..batch_size=2048, epochs=10;, score=-0.003 total time=   8.7s\n"
     ]
    }
   ],
   "source": [
    "# Create the model\n",
    "model = KerasRegressor(build_fn = create_model,verbose = 0)\n",
    "# Define the grid search parameters\n",
    "batch_size = [512,1024,2048]\n",
    "epochs = [5,10]\n",
    "# Make a dictionary of the grid search parameters\n",
    "param_grid = dict(batch_size = batch_size,epochs = epochs)\n",
    "# Build and fit the GridSearchCV\n",
    "grid = GridSearchCV(estimator = model,param_grid = param_grid,cv = KFold(),verbose = 10)\n",
    "grid_result = grid.fit(X,y) "
   ]
  },
  {
   "cell_type": "code",
   "execution_count": 7,
   "id": "bcf6f348",
   "metadata": {
    "ExecuteTime": {
     "end_time": "2023-07-06T09:55:14.343215Z",
     "start_time": "2023-07-06T09:55:14.324233Z"
    }
   },
   "outputs": [
    {
     "name": "stdout",
     "output_type": "stream",
     "text": [
      "Best : -0.008683051588013769, using {'batch_size': 512, 'epochs': 10}\n",
      "-0.011834447225555777,0.008350022550520704 with: {'batch_size': 512, 'epochs': 5}\n",
      "-0.008683051588013769,0.005499599216393214 with: {'batch_size': 512, 'epochs': 10}\n",
      "-0.009858888247981668,0.005435383989254319 with: {'batch_size': 1024, 'epochs': 5}\n",
      "-0.010344558907672764,0.008101558724919694 with: {'batch_size': 1024, 'epochs': 10}\n",
      "-0.009851982351392508,0.004721878318032656 with: {'batch_size': 2048, 'epochs': 5}\n",
      "-0.009914810350164772,0.006766455876685931 with: {'batch_size': 2048, 'epochs': 10}\n"
     ]
    }
   ],
   "source": [
    "# Summarize the results\n",
    "print('Best : {}, using {}'.format(grid_result.best_score_,grid_result.best_params_))\n",
    "means = grid_result.cv_results_['mean_test_score']\n",
    "stds = grid_result.cv_results_['std_test_score']\n",
    "params = grid_result.cv_results_['params']\n",
    "for mean, stdev, param in zip(means, stds, params):\n",
    "  print('{},{} with: {}'.format(mean, stdev, param)) "
   ]
  },
  {
   "cell_type": "markdown",
   "id": "e048e479",
   "metadata": {},
   "source": [
    "#### Tuning of Hyperparameters:- Learning rate and Drop out rate"
   ]
  },
  {
   "cell_type": "code",
   "execution_count": 8,
   "id": "1c600286",
   "metadata": {
    "ExecuteTime": {
     "end_time": "2023-07-06T10:21:25.169860Z",
     "start_time": "2023-07-06T09:56:07.440937Z"
    }
   },
   "outputs": [
    {
     "name": "stdout",
     "output_type": "stream",
     "text": [
      "Fitting 5 folds for each of 9 candidates, totalling 45 fits\n",
      "[CV 1/5; 1/9] START dropout_rate=0.0, learning_rate=0.001.......................\n",
      "[CV 1/5; 1/9] END dropout_rate=0.0, learning_rate=0.001;, score=-0.015 total time=  25.5s\n",
      "[CV 2/5; 1/9] START dropout_rate=0.0, learning_rate=0.001.......................\n",
      "[CV 2/5; 1/9] END dropout_rate=0.0, learning_rate=0.001;, score=-0.009 total time=  25.4s\n",
      "[CV 3/5; 1/9] START dropout_rate=0.0, learning_rate=0.001.......................\n",
      "[CV 3/5; 1/9] END dropout_rate=0.0, learning_rate=0.001;, score=-0.009 total time=  26.7s\n",
      "[CV 4/5; 1/9] START dropout_rate=0.0, learning_rate=0.001.......................\n",
      "[CV 4/5; 1/9] END dropout_rate=0.0, learning_rate=0.001;, score=-0.003 total time=  26.7s\n",
      "[CV 5/5; 1/9] START dropout_rate=0.0, learning_rate=0.001.......................\n",
      "[CV 5/5; 1/9] END dropout_rate=0.0, learning_rate=0.001;, score=-0.004 total time=  26.3s\n",
      "[CV 1/5; 2/9] START dropout_rate=0.0, learning_rate=0.01........................\n",
      "[CV 1/5; 2/9] END dropout_rate=0.0, learning_rate=0.01;, score=-0.024 total time=  26.5s\n",
      "[CV 2/5; 2/9] START dropout_rate=0.0, learning_rate=0.01........................\n",
      "[CV 2/5; 2/9] END dropout_rate=0.0, learning_rate=0.01;, score=-0.007 total time=  26.6s\n",
      "[CV 3/5; 2/9] START dropout_rate=0.0, learning_rate=0.01........................\n",
      "[CV 3/5; 2/9] END dropout_rate=0.0, learning_rate=0.01;, score=-0.007 total time=  26.8s\n",
      "[CV 4/5; 2/9] START dropout_rate=0.0, learning_rate=0.01........................\n",
      "[CV 4/5; 2/9] END dropout_rate=0.0, learning_rate=0.01;, score=-0.003 total time=  31.5s\n",
      "[CV 5/5; 2/9] START dropout_rate=0.0, learning_rate=0.01........................\n",
      "[CV 5/5; 2/9] END dropout_rate=0.0, learning_rate=0.01;, score=-0.004 total time=  29.7s\n",
      "[CV 1/5; 3/9] START dropout_rate=0.0, learning_rate=0.1.........................\n",
      "[CV 1/5; 3/9] END dropout_rate=0.0, learning_rate=0.1;, score=-0.031 total time=  31.7s\n",
      "[CV 2/5; 3/9] START dropout_rate=0.0, learning_rate=0.1.........................\n",
      "[CV 2/5; 3/9] END dropout_rate=0.0, learning_rate=0.1;, score=-0.014 total time=  28.8s\n",
      "[CV 3/5; 3/9] START dropout_rate=0.0, learning_rate=0.1.........................\n",
      "[CV 3/5; 3/9] END dropout_rate=0.0, learning_rate=0.1;, score=-0.011 total time=  29.2s\n",
      "[CV 4/5; 3/9] START dropout_rate=0.0, learning_rate=0.1.........................\n",
      "[CV 4/5; 3/9] END dropout_rate=0.0, learning_rate=0.1;, score=-0.003 total time=  29.0s\n",
      "[CV 5/5; 3/9] START dropout_rate=0.0, learning_rate=0.1.........................\n",
      "[CV 5/5; 3/9] END dropout_rate=0.0, learning_rate=0.1;, score=-0.003 total time=  26.8s\n",
      "[CV 1/5; 4/9] START dropout_rate=0.1, learning_rate=0.001.......................\n",
      "[CV 1/5; 4/9] END dropout_rate=0.1, learning_rate=0.001;, score=-0.047 total time=  34.2s\n",
      "[CV 2/5; 4/9] START dropout_rate=0.1, learning_rate=0.001.......................\n",
      "[CV 2/5; 4/9] END dropout_rate=0.1, learning_rate=0.001;, score=-0.018 total time=  34.9s\n",
      "[CV 3/5; 4/9] START dropout_rate=0.1, learning_rate=0.001.......................\n",
      "[CV 3/5; 4/9] END dropout_rate=0.1, learning_rate=0.001;, score=-0.010 total time=  34.2s\n",
      "[CV 4/5; 4/9] START dropout_rate=0.1, learning_rate=0.001.......................\n",
      "[CV 4/5; 4/9] END dropout_rate=0.1, learning_rate=0.001;, score=-0.005 total time=  34.4s\n",
      "[CV 5/5; 4/9] START dropout_rate=0.1, learning_rate=0.001.......................\n",
      "[CV 5/5; 4/9] END dropout_rate=0.1, learning_rate=0.001;, score=-0.011 total time=  34.2s\n",
      "[CV 1/5; 5/9] START dropout_rate=0.1, learning_rate=0.01........................\n",
      "[CV 1/5; 5/9] END dropout_rate=0.1, learning_rate=0.01;, score=-0.042 total time=  34.4s\n",
      "[CV 2/5; 5/9] START dropout_rate=0.1, learning_rate=0.01........................\n",
      "[CV 2/5; 5/9] END dropout_rate=0.1, learning_rate=0.01;, score=-0.015 total time=  34.0s\n",
      "[CV 3/5; 5/9] START dropout_rate=0.1, learning_rate=0.01........................\n",
      "[CV 3/5; 5/9] END dropout_rate=0.1, learning_rate=0.01;, score=-0.015 total time=  34.2s\n",
      "[CV 4/5; 5/9] START dropout_rate=0.1, learning_rate=0.01........................\n",
      "[CV 4/5; 5/9] END dropout_rate=0.1, learning_rate=0.01;, score=-0.009 total time=  34.4s\n",
      "[CV 5/5; 5/9] START dropout_rate=0.1, learning_rate=0.01........................\n",
      "[CV 5/5; 5/9] END dropout_rate=0.1, learning_rate=0.01;, score=-0.005 total time=  38.1s\n",
      "[CV 1/5; 6/9] START dropout_rate=0.1, learning_rate=0.1.........................\n",
      "[CV 1/5; 6/9] END dropout_rate=0.1, learning_rate=0.1;, score=-0.035 total time=  36.3s\n",
      "[CV 2/5; 6/9] START dropout_rate=0.1, learning_rate=0.1.........................\n",
      "[CV 2/5; 6/9] END dropout_rate=0.1, learning_rate=0.1;, score=-0.024 total time=  40.1s\n",
      "[CV 3/5; 6/9] START dropout_rate=0.1, learning_rate=0.1.........................\n",
      "[CV 3/5; 6/9] END dropout_rate=0.1, learning_rate=0.1;, score=-0.030 total time=  36.9s\n",
      "[CV 4/5; 6/9] START dropout_rate=0.1, learning_rate=0.1.........................\n",
      "[CV 4/5; 6/9] END dropout_rate=0.1, learning_rate=0.1;, score=-0.010 total time=  36.2s\n",
      "[CV 5/5; 6/9] START dropout_rate=0.1, learning_rate=0.1.........................\n",
      "[CV 5/5; 6/9] END dropout_rate=0.1, learning_rate=0.1;, score=-0.041 total time=  37.9s\n",
      "[CV 1/5; 7/9] START dropout_rate=0.2, learning_rate=0.001.......................\n",
      "[CV 1/5; 7/9] END dropout_rate=0.2, learning_rate=0.001;, score=-0.066 total time=  37.6s\n",
      "[CV 2/5; 7/9] START dropout_rate=0.2, learning_rate=0.001.......................\n",
      "[CV 2/5; 7/9] END dropout_rate=0.2, learning_rate=0.001;, score=-0.025 total time=  37.5s\n",
      "[CV 3/5; 7/9] START dropout_rate=0.2, learning_rate=0.001.......................\n",
      "[CV 3/5; 7/9] END dropout_rate=0.2, learning_rate=0.001;, score=-0.022 total time=  37.8s\n",
      "[CV 4/5; 7/9] START dropout_rate=0.2, learning_rate=0.001.......................\n",
      "[CV 4/5; 7/9] END dropout_rate=0.2, learning_rate=0.001;, score=-0.018 total time=  35.2s\n",
      "[CV 5/5; 7/9] START dropout_rate=0.2, learning_rate=0.001.......................\n",
      "[CV 5/5; 7/9] END dropout_rate=0.2, learning_rate=0.001;, score=-0.020 total time=  34.6s\n",
      "[CV 1/5; 8/9] START dropout_rate=0.2, learning_rate=0.01........................\n",
      "[CV 1/5; 8/9] END dropout_rate=0.2, learning_rate=0.01;, score=-0.061 total time=  34.8s\n",
      "[CV 2/5; 8/9] START dropout_rate=0.2, learning_rate=0.01........................\n",
      "[CV 2/5; 8/9] END dropout_rate=0.2, learning_rate=0.01;, score=-0.023 total time=  34.6s\n",
      "[CV 3/5; 8/9] START dropout_rate=0.2, learning_rate=0.01........................\n",
      "[CV 3/5; 8/9] END dropout_rate=0.2, learning_rate=0.01;, score=-0.018 total time=  34.3s\n",
      "[CV 4/5; 8/9] START dropout_rate=0.2, learning_rate=0.01........................\n",
      "[CV 4/5; 8/9] END dropout_rate=0.2, learning_rate=0.01;, score=-0.019 total time=  35.3s\n",
      "[CV 5/5; 8/9] START dropout_rate=0.2, learning_rate=0.01........................\n",
      "[CV 5/5; 8/9] END dropout_rate=0.2, learning_rate=0.01;, score=-0.015 total time=  34.2s\n",
      "[CV 1/5; 9/9] START dropout_rate=0.2, learning_rate=0.1.........................\n",
      "[CV 1/5; 9/9] END dropout_rate=0.2, learning_rate=0.1;, score=-0.126 total time=  34.7s\n",
      "[CV 2/5; 9/9] START dropout_rate=0.2, learning_rate=0.1.........................\n",
      "[CV 2/5; 9/9] END dropout_rate=0.2, learning_rate=0.1;, score=-0.034 total time=  34.8s\n",
      "[CV 3/5; 9/9] START dropout_rate=0.2, learning_rate=0.1.........................\n",
      "[CV 3/5; 9/9] END dropout_rate=0.2, learning_rate=0.1;, score=-0.031 total time=  34.3s\n",
      "[CV 4/5; 9/9] START dropout_rate=0.2, learning_rate=0.1.........................\n",
      "[CV 4/5; 9/9] END dropout_rate=0.2, learning_rate=0.1;, score=-0.055 total time=  34.6s\n",
      "[CV 5/5; 9/9] START dropout_rate=0.2, learning_rate=0.1.........................\n",
      "[CV 5/5; 9/9] END dropout_rate=0.2, learning_rate=0.1;, score=-0.074 total time=  34.7s\n"
     ]
    }
   ],
   "source": [
    "from keras.layers import Dropout\n",
    "\n",
    "# Defining the model\n",
    "\n",
    "def create_model(learning_rate,dropout_rate):\n",
    "    model = Sequential()\n",
    "    model.add(Dense(12,input_dim = 4,kernel_initializer = 'random_uniform',activation = 'relu'))\n",
    "    model.add(Dropout(dropout_rate))\n",
    "    model.add(Dense(8,input_dim = 12,kernel_initializer = 'random_uniform',activation = 'relu'))\n",
    "    model.add(Dropout(dropout_rate))\n",
    "    model.add(Dense(1,activation = 'linear'))\n",
    "    \n",
    "    adam = Adam(lr = learning_rate)\n",
    "    model.compile(loss = 'mean_squared_error',optimizer = adam,metrics = ['MeanSquaredError'])\n",
    "    return model\n",
    "\n",
    "# Create the model\n",
    "\n",
    "model = KerasRegressor(build_fn = create_model,verbose = 0,batch_size = 512,epochs = 10)\n",
    "\n",
    "# Define the grid search parameters\n",
    "\n",
    "learning_rate = [0.001,0.01,0.1]\n",
    "dropout_rate = [0.0,0.1,0.2]\n",
    "\n",
    "# Make a dictionary of the grid search parameters\n",
    "\n",
    "param_grids = dict(learning_rate = learning_rate,dropout_rate = dropout_rate)\n",
    "\n",
    "# Build and fit the GridSearchCV\n",
    "\n",
    "grid = GridSearchCV(estimator = model,param_grid = param_grids,cv = KFold(),verbose = 10)\n",
    "grid_result = grid.fit(X,y)"
   ]
  },
  {
   "cell_type": "code",
   "execution_count": 9,
   "id": "c8552f54",
   "metadata": {
    "ExecuteTime": {
     "end_time": "2023-07-06T10:22:17.159108Z",
     "start_time": "2023-07-06T10:22:17.140161Z"
    }
   },
   "outputs": [
    {
     "name": "stdout",
     "output_type": "stream",
     "text": [
      "Best : -0.007851420575752855, using {'dropout_rate': 0.0, 'learning_rate': 0.001}\n",
      "-0.007851420575752855,0.004347933231515887 with: {'dropout_rate': 0.0, 'learning_rate': 0.001}\n",
      "-0.00905276513658464,0.007631765482585747 with: {'dropout_rate': 0.0, 'learning_rate': 0.01}\n",
      "-0.012499921768903733,0.00999416652575866 with: {'dropout_rate': 0.0, 'learning_rate': 0.1}\n",
      "-0.018090776912868024,0.01473421836682398 with: {'dropout_rate': 0.1, 'learning_rate': 0.001}\n",
      "-0.016995217837393283,0.012932525137396894 with: {'dropout_rate': 0.1, 'learning_rate': 0.01}\n",
      "-0.02801370732486248,0.010593028745082755 with: {'dropout_rate': 0.1, 'learning_rate': 0.1}\n",
      "-0.03012992814183235,0.017992747982672027 with: {'dropout_rate': 0.2, 'learning_rate': 0.001}\n",
      "-0.02701311483979225,0.016939364235333272 with: {'dropout_rate': 0.2, 'learning_rate': 0.01}\n",
      "-0.06399466469883919,0.034590269789329935 with: {'dropout_rate': 0.2, 'learning_rate': 0.1}\n"
     ]
    }
   ],
   "source": [
    "# Summarize the results\n",
    "print('Best : {}, using {}'.format(grid_result.best_score_,grid_result.best_params_))\n",
    "means = grid_result.cv_results_['mean_test_score']\n",
    "stds = grid_result.cv_results_['std_test_score']\n",
    "params = grid_result.cv_results_['params']\n",
    "for mean, stdev, param in zip(means, stds, params):\n",
    "  print('{},{} with: {}'.format(mean, stdev, param)) "
   ]
  },
  {
   "cell_type": "markdown",
   "id": "0b20a68f",
   "metadata": {},
   "source": [
    "#### Tuning of Hyperparameters:- Activation Function and Kernel Initializer"
   ]
  },
  {
   "cell_type": "code",
   "execution_count": 10,
   "id": "7822a2da",
   "metadata": {
    "ExecuteTime": {
     "end_time": "2023-07-06T10:44:41.073544Z",
     "start_time": "2023-07-06T10:23:04.098615Z"
    }
   },
   "outputs": [
    {
     "name": "stdout",
     "output_type": "stream",
     "text": [
      "Fitting 5 folds for each of 12 candidates, totalling 60 fits\n",
      "[CV 1/5; 1/12] START activation_function=selu, init=uniform.....................\n",
      "[CV 1/5; 1/12] END activation_function=selu, init=uniform;, score=-0.016 total time=  25.8s\n",
      "[CV 2/5; 1/12] START activation_function=selu, init=uniform.....................\n",
      "[CV 2/5; 1/12] END activation_function=selu, init=uniform;, score=-0.012 total time=  27.9s\n",
      "[CV 3/5; 1/12] START activation_function=selu, init=uniform.....................\n",
      "[CV 3/5; 1/12] END activation_function=selu, init=uniform;, score=-0.011 total time=  27.5s\n",
      "[CV 4/5; 1/12] START activation_function=selu, init=uniform.....................\n",
      "[CV 4/5; 1/12] END activation_function=selu, init=uniform;, score=-0.004 total time=  27.2s\n",
      "[CV 5/5; 1/12] START activation_function=selu, init=uniform.....................\n",
      "[CV 5/5; 1/12] END activation_function=selu, init=uniform;, score=-0.006 total time=  28.0s\n",
      "[CV 1/5; 2/12] START activation_function=selu, init=normal......................\n",
      "[CV 1/5; 2/12] END activation_function=selu, init=normal;, score=-0.022 total time=  27.5s\n",
      "[CV 2/5; 2/12] START activation_function=selu, init=normal......................\n",
      "[CV 2/5; 2/12] END activation_function=selu, init=normal;, score=-0.011 total time=  27.3s\n",
      "[CV 3/5; 2/12] START activation_function=selu, init=normal......................\n",
      "[CV 3/5; 2/12] END activation_function=selu, init=normal;, score=-0.013 total time=  28.1s\n",
      "[CV 4/5; 2/12] START activation_function=selu, init=normal......................\n",
      "[CV 4/5; 2/12] END activation_function=selu, init=normal;, score=-0.004 total time=  27.9s\n",
      "[CV 5/5; 2/12] START activation_function=selu, init=normal......................\n",
      "[CV 5/5; 2/12] END activation_function=selu, init=normal;, score=-0.004 total time=  28.1s\n",
      "[CV 1/5; 3/12] START activation_function=selu, init=zero........................\n",
      "[CV 1/5; 3/12] END activation_function=selu, init=zero;, score=-1.280 total time=  28.2s\n",
      "[CV 2/5; 3/12] START activation_function=selu, init=zero........................\n",
      "[CV 2/5; 3/12] END activation_function=selu, init=zero;, score=-0.916 total time=  28.3s\n",
      "[CV 3/5; 3/12] START activation_function=selu, init=zero........................\n",
      "[CV 3/5; 3/12] END activation_function=selu, init=zero;, score=-0.875 total time=  28.7s\n",
      "[CV 4/5; 3/12] START activation_function=selu, init=zero........................\n",
      "[CV 4/5; 3/12] END activation_function=selu, init=zero;, score=-1.267 total time=  28.0s\n",
      "[CV 5/5; 3/12] START activation_function=selu, init=zero........................\n",
      "[CV 5/5; 3/12] END activation_function=selu, init=zero;, score=-1.271 total time=  31.4s\n",
      "[CV 1/5; 4/12] START activation_function=relu, init=uniform.....................\n",
      "[CV 1/5; 4/12] END activation_function=relu, init=uniform;, score=-0.011 total time=  28.3s\n",
      "[CV 2/5; 4/12] START activation_function=relu, init=uniform.....................\n",
      "[CV 2/5; 4/12] END activation_function=relu, init=uniform;, score=-0.010 total time=  27.6s\n",
      "[CV 3/5; 4/12] START activation_function=relu, init=uniform.....................\n",
      "[CV 3/5; 4/12] END activation_function=relu, init=uniform;, score=-0.009 total time=  30.2s\n",
      "[CV 4/5; 4/12] START activation_function=relu, init=uniform.....................\n",
      "[CV 4/5; 4/12] END activation_function=relu, init=uniform;, score=-0.004 total time=  28.6s\n",
      "[CV 5/5; 4/12] START activation_function=relu, init=uniform.....................\n",
      "[CV 5/5; 4/12] END activation_function=relu, init=uniform;, score=-0.003 total time=  28.0s\n",
      "[CV 1/5; 5/12] START activation_function=relu, init=normal......................\n",
      "[CV 1/5; 5/12] END activation_function=relu, init=normal;, score=-0.024 total time=  26.9s\n",
      "[CV 2/5; 5/12] START activation_function=relu, init=normal......................\n",
      "[CV 2/5; 5/12] END activation_function=relu, init=normal;, score=-0.009 total time=  30.0s\n",
      "[CV 3/5; 5/12] START activation_function=relu, init=normal......................\n",
      "[CV 3/5; 5/12] END activation_function=relu, init=normal;, score=-0.008 total time=  28.6s\n",
      "[CV 4/5; 5/12] START activation_function=relu, init=normal......................\n",
      "[CV 4/5; 5/12] END activation_function=relu, init=normal;, score=-0.003 total time=  29.9s\n",
      "[CV 5/5; 5/12] START activation_function=relu, init=normal......................\n",
      "[CV 5/5; 5/12] END activation_function=relu, init=normal;, score=-0.003 total time=  29.9s\n",
      "[CV 1/5; 6/12] START activation_function=relu, init=zero........................\n",
      "[CV 1/5; 6/12] END activation_function=relu, init=zero;, score=-1.284 total time=  28.0s\n",
      "[CV 2/5; 6/12] START activation_function=relu, init=zero........................\n",
      "[CV 2/5; 6/12] END activation_function=relu, init=zero;, score=-0.915 total time=  28.1s\n",
      "[CV 3/5; 6/12] START activation_function=relu, init=zero........................\n",
      "[CV 3/5; 6/12] END activation_function=relu, init=zero;, score=-0.874 total time=  29.8s\n",
      "[CV 4/5; 6/12] START activation_function=relu, init=zero........................\n",
      "[CV 4/5; 6/12] END activation_function=relu, init=zero;, score=-1.277 total time=  28.0s\n",
      "[CV 5/5; 6/12] START activation_function=relu, init=zero........................\n",
      "[CV 5/5; 6/12] END activation_function=relu, init=zero;, score=-1.274 total time=  28.0s\n",
      "[CV 1/5; 7/12] START activation_function=step, init=uniform.....................\n",
      "[CV 1/5; 7/12] END activation_function=step, init=uniform;, score=nan total time=   0.0s\n",
      "[CV 2/5; 7/12] START activation_function=step, init=uniform.....................\n",
      "[CV 2/5; 7/12] END activation_function=step, init=uniform;, score=nan total time=   0.0s\n",
      "[CV 3/5; 7/12] START activation_function=step, init=uniform.....................\n",
      "[CV 3/5; 7/12] END activation_function=step, init=uniform;, score=nan total time=   0.0s\n",
      "[CV 4/5; 7/12] START activation_function=step, init=uniform.....................\n",
      "[CV 4/5; 7/12] END activation_function=step, init=uniform;, score=nan total time=   0.0s\n",
      "[CV 5/5; 7/12] START activation_function=step, init=uniform.....................\n",
      "[CV 5/5; 7/12] END activation_function=step, init=uniform;, score=nan total time=   0.0s\n",
      "[CV 1/5; 8/12] START activation_function=step, init=normal......................\n",
      "[CV 1/5; 8/12] END activation_function=step, init=normal;, score=nan total time=   0.0s\n",
      "[CV 2/5; 8/12] START activation_function=step, init=normal......................\n",
      "[CV 2/5; 8/12] END activation_function=step, init=normal;, score=nan total time=   0.0s\n",
      "[CV 3/5; 8/12] START activation_function=step, init=normal......................\n",
      "[CV 3/5; 8/12] END activation_function=step, init=normal;, score=nan total time=   0.0s\n",
      "[CV 4/5; 8/12] START activation_function=step, init=normal......................\n",
      "[CV 4/5; 8/12] END activation_function=step, init=normal;, score=nan total time=   0.0s\n",
      "[CV 5/5; 8/12] START activation_function=step, init=normal......................\n",
      "[CV 5/5; 8/12] END activation_function=step, init=normal;, score=nan total time=   0.0s\n",
      "[CV 1/5; 9/12] START activation_function=step, init=zero........................\n",
      "[CV 1/5; 9/12] END activation_function=step, init=zero;, score=nan total time=   0.0s\n",
      "[CV 2/5; 9/12] START activation_function=step, init=zero........................\n",
      "[CV 2/5; 9/12] END activation_function=step, init=zero;, score=nan total time=   0.0s\n",
      "[CV 3/5; 9/12] START activation_function=step, init=zero........................\n",
      "[CV 3/5; 9/12] END activation_function=step, init=zero;, score=nan total time=   0.0s\n",
      "[CV 4/5; 9/12] START activation_function=step, init=zero........................\n",
      "[CV 4/5; 9/12] END activation_function=step, init=zero;, score=nan total time=   0.0s\n",
      "[CV 5/5; 9/12] START activation_function=step, init=zero........................\n",
      "[CV 5/5; 9/12] END activation_function=step, init=zero;, score=nan total time=   0.0s\n",
      "[CV 1/5; 10/12] START activation_function=linear, init=uniform..................\n",
      "[CV 1/5; 10/12] END activation_function=linear, init=uniform;, score=-0.115 total time=  26.3s\n",
      "[CV 2/5; 10/12] START activation_function=linear, init=uniform..................\n",
      "[CV 2/5; 10/12] END activation_function=linear, init=uniform;, score=-0.083 total time=  27.6s\n",
      "[CV 3/5; 10/12] START activation_function=linear, init=uniform..................\n",
      "[CV 3/5; 10/12] END activation_function=linear, init=uniform;, score=-0.080 total time=  28.3s\n",
      "[CV 4/5; 10/12] START activation_function=linear, init=uniform..................\n"
     ]
    },
    {
     "name": "stdout",
     "output_type": "stream",
     "text": [
      "[CV 4/5; 10/12] END activation_function=linear, init=uniform;, score=-0.042 total time=  29.2s\n",
      "[CV 5/5; 10/12] START activation_function=linear, init=uniform..................\n",
      "[CV 5/5; 10/12] END activation_function=linear, init=uniform;, score=-0.041 total time=  27.4s\n",
      "[CV 1/5; 11/12] START activation_function=linear, init=normal...................\n",
      "[CV 1/5; 11/12] END activation_function=linear, init=normal;, score=-0.123 total time=  28.6s\n",
      "[CV 2/5; 11/12] START activation_function=linear, init=normal...................\n",
      "[CV 2/5; 11/12] END activation_function=linear, init=normal;, score=-0.083 total time=  28.2s\n",
      "[CV 3/5; 11/12] START activation_function=linear, init=normal...................\n",
      "[CV 3/5; 11/12] END activation_function=linear, init=normal;, score=-0.077 total time=  26.8s\n",
      "[CV 4/5; 11/12] START activation_function=linear, init=normal...................\n",
      "[CV 4/5; 11/12] END activation_function=linear, init=normal;, score=-0.042 total time=  26.4s\n",
      "[CV 5/5; 11/12] START activation_function=linear, init=normal...................\n",
      "[CV 5/5; 11/12] END activation_function=linear, init=normal;, score=-0.041 total time=  26.5s\n",
      "[CV 1/5; 12/12] START activation_function=linear, init=zero.....................\n",
      "[CV 1/5; 12/12] END activation_function=linear, init=zero;, score=-1.281 total time=  26.9s\n",
      "[CV 2/5; 12/12] START activation_function=linear, init=zero.....................\n",
      "[CV 2/5; 12/12] END activation_function=linear, init=zero;, score=-0.914 total time=  26.4s\n",
      "[CV 3/5; 12/12] START activation_function=linear, init=zero.....................\n",
      "[CV 3/5; 12/12] END activation_function=linear, init=zero;, score=-0.875 total time=  26.9s\n",
      "[CV 4/5; 12/12] START activation_function=linear, init=zero.....................\n",
      "[CV 4/5; 12/12] END activation_function=linear, init=zero;, score=-1.264 total time=  26.6s\n",
      "[CV 5/5; 12/12] START activation_function=linear, init=zero.....................\n",
      "[CV 5/5; 12/12] END activation_function=linear, init=zero;, score=-1.260 total time=  26.3s\n"
     ]
    }
   ],
   "source": [
    "# Defining the model\n",
    "\n",
    "def create_model(activation_function,init):\n",
    "    model = Sequential()\n",
    "    model.add(Dense(12,input_dim = 4,kernel_initializer = init,activation = activation_function))\n",
    "    model.add(Dropout(0.0))\n",
    "    model.add(Dense(8,input_dim = 12,kernel_initializer = init,activation = activation_function))\n",
    "    model.add(Dropout(0.0))\n",
    "    model.add(Dense(1,activation = 'linear'))\n",
    "    \n",
    "    adam = Adam(lr = 0.001)\n",
    "    model.compile(loss = 'mean_squared_error',optimizer = adam,metrics = ['MeanSquaredError'])\n",
    "    return model\n",
    "\n",
    "# Create the model\n",
    "\n",
    "model = KerasRegressor(build_fn = create_model,verbose = 0,batch_size = 512,epochs = 10)\n",
    "\n",
    "# Define the grid search parameters\n",
    "activation_function = ['selu','relu','step','linear']\n",
    "init = ['uniform','normal','zero']\n",
    "\n",
    "# Make a dictionary of the grid search parameters\n",
    "param_grids = dict(activation_function = activation_function,init = init)\n",
    "\n",
    "# Build and fit the GridSearchCV\n",
    "\n",
    "grid = GridSearchCV(estimator = model,param_grid = param_grids,cv = KFold(),verbose = 10)\n",
    "grid_result = grid.fit(X,y)"
   ]
  },
  {
   "cell_type": "code",
   "execution_count": 11,
   "id": "bfbf7f9e",
   "metadata": {
    "ExecuteTime": {
     "end_time": "2023-07-06T11:11:26.975719Z",
     "start_time": "2023-07-06T11:11:26.960760Z"
    }
   },
   "outputs": [
    {
     "name": "stdout",
     "output_type": "stream",
     "text": [
      "Best : -0.007323959330096841, using {'activation_function': 'relu', 'init': 'uniform'}\n",
      "-0.009742717677727341,0.00449674045541203 with: {'activation_function': 'selu', 'init': 'uniform'}\n",
      "-0.010943353828042745,0.006818618950282039 with: {'activation_function': 'selu', 'init': 'normal'}\n",
      "-1.1218641877174378,0.1852271955745757 with: {'activation_function': 'selu', 'init': 'zero'}\n",
      "-0.007323959330096841,0.003228909833627753 with: {'activation_function': 'relu', 'init': 'uniform'}\n",
      "-0.009559993166476488,0.007477997804787833 with: {'activation_function': 'relu', 'init': 'normal'}\n",
      "-1.1247742652893067,0.18838606086418064 with: {'activation_function': 'relu', 'init': 'zero'}\n",
      "nan,nan with: {'activation_function': 'step', 'init': 'uniform'}\n",
      "nan,nan with: {'activation_function': 'step', 'init': 'normal'}\n",
      "nan,nan with: {'activation_function': 'step', 'init': 'zero'}\n",
      "-0.07215921357274055,0.027863309503875628 with: {'activation_function': 'linear', 'init': 'uniform'}\n",
      "-0.07330212816596031,0.030468259917507137 with: {'activation_function': 'linear', 'init': 'normal'}\n",
      "-1.1185798168182373,0.1837728149982825 with: {'activation_function': 'linear', 'init': 'zero'}\n"
     ]
    }
   ],
   "source": [
    "# Summarize the results\n",
    "print('Best : {}, using {}'.format(grid_result.best_score_,grid_result.best_params_))\n",
    "means = grid_result.cv_results_['mean_test_score']\n",
    "stds = grid_result.cv_results_['std_test_score']\n",
    "params = grid_result.cv_results_['params']\n",
    "for mean, stdev, param in zip(means, stds, params):\n",
    "  print('{},{} with: {}'.format(mean, stdev, param)) "
   ]
  },
  {
   "cell_type": "code",
   "execution_count": 13,
   "id": "abff7a92",
   "metadata": {
    "ExecuteTime": {
     "end_time": "2023-07-06T11:39:05.427285Z",
     "start_time": "2023-07-06T11:17:37.244535Z"
    }
   },
   "outputs": [
    {
     "name": "stdout",
     "output_type": "stream",
     "text": [
      "Fitting 5 folds for each of 9 candidates, totalling 45 fits\n",
      "[CV 1/5; 1/9] START neuron1=4, neuron2=2........................................\n",
      "[CV 1/5; 1/9] END ........neuron1=4, neuron2=2;, score=-0.035 total time=  25.0s\n",
      "[CV 2/5; 1/9] START neuron1=4, neuron2=2........................................\n",
      "[CV 2/5; 1/9] END ........neuron1=4, neuron2=2;, score=-0.023 total time=  26.0s\n",
      "[CV 3/5; 1/9] START neuron1=4, neuron2=2........................................\n",
      "[CV 3/5; 1/9] END ........neuron1=4, neuron2=2;, score=-0.017 total time=  26.7s\n",
      "[CV 4/5; 1/9] START neuron1=4, neuron2=2........................................\n",
      "[CV 4/5; 1/9] END ........neuron1=4, neuron2=2;, score=-0.008 total time=  26.9s\n",
      "[CV 5/5; 1/9] START neuron1=4, neuron2=2........................................\n",
      "[CV 5/5; 1/9] END ........neuron1=4, neuron2=2;, score=-1.267 total time=  27.1s\n",
      "[CV 1/5; 2/9] START neuron1=4, neuron2=4........................................\n",
      "[CV 1/5; 2/9] END ........neuron1=4, neuron2=4;, score=-0.025 total time=  27.2s\n",
      "[CV 2/5; 2/9] START neuron1=4, neuron2=4........................................\n",
      "[CV 2/5; 2/9] END ........neuron1=4, neuron2=4;, score=-0.030 total time=  26.8s\n",
      "[CV 3/5; 2/9] START neuron1=4, neuron2=4........................................\n",
      "[CV 3/5; 2/9] END ........neuron1=4, neuron2=4;, score=-0.012 total time=  26.8s\n",
      "[CV 4/5; 2/9] START neuron1=4, neuron2=4........................................\n",
      "[CV 4/5; 2/9] END ........neuron1=4, neuron2=4;, score=-1.265 total time=  27.2s\n",
      "[CV 5/5; 2/9] START neuron1=4, neuron2=4........................................\n",
      "[CV 5/5; 2/9] END ........neuron1=4, neuron2=4;, score=-0.006 total time=  30.6s\n",
      "[CV 1/5; 3/9] START neuron1=4, neuron2=8........................................\n",
      "[CV 1/5; 3/9] END ........neuron1=4, neuron2=8;, score=-0.024 total time=  29.6s\n",
      "[CV 2/5; 3/9] START neuron1=4, neuron2=8........................................\n",
      "[CV 2/5; 3/9] END ........neuron1=4, neuron2=8;, score=-0.012 total time=  30.9s\n",
      "[CV 3/5; 3/9] START neuron1=4, neuron2=8........................................\n",
      "[CV 3/5; 3/9] END ........neuron1=4, neuron2=8;, score=-0.019 total time=  28.3s\n",
      "[CV 4/5; 3/9] START neuron1=4, neuron2=8........................................\n",
      "[CV 4/5; 3/9] END ........neuron1=4, neuron2=8;, score=-0.005 total time=  27.2s\n",
      "[CV 5/5; 3/9] START neuron1=4, neuron2=8........................................\n",
      "[CV 5/5; 3/9] END ........neuron1=4, neuron2=8;, score=-0.004 total time=  28.2s\n",
      "[CV 1/5; 4/9] START neuron1=8, neuron2=2........................................\n",
      "[CV 1/5; 4/9] END ........neuron1=8, neuron2=2;, score=-0.031 total time=  28.9s\n",
      "[CV 2/5; 4/9] START neuron1=8, neuron2=2........................................\n",
      "[CV 2/5; 4/9] END ........neuron1=8, neuron2=2;, score=-0.011 total time=  27.9s\n",
      "[CV 3/5; 4/9] START neuron1=8, neuron2=2........................................\n",
      "[CV 3/5; 4/9] END ........neuron1=8, neuron2=2;, score=-0.011 total time=  29.1s\n",
      "[CV 4/5; 4/9] START neuron1=8, neuron2=2........................................\n",
      "[CV 4/5; 4/9] END ........neuron1=8, neuron2=2;, score=-0.006 total time=  29.4s\n",
      "[CV 5/5; 4/9] START neuron1=8, neuron2=2........................................\n",
      "[CV 5/5; 4/9] END ........neuron1=8, neuron2=2;, score=-0.004 total time=  27.5s\n",
      "[CV 1/5; 5/9] START neuron1=8, neuron2=4........................................\n",
      "[CV 1/5; 5/9] END ........neuron1=8, neuron2=4;, score=-0.035 total time=  27.1s\n",
      "[CV 2/5; 5/9] START neuron1=8, neuron2=4........................................\n",
      "[CV 2/5; 5/9] END ........neuron1=8, neuron2=4;, score=-0.013 total time=  26.5s\n",
      "[CV 3/5; 5/9] START neuron1=8, neuron2=4........................................\n",
      "[CV 3/5; 5/9] END ........neuron1=8, neuron2=4;, score=-0.016 total time=  26.6s\n",
      "[CV 4/5; 5/9] START neuron1=8, neuron2=4........................................\n",
      "[CV 4/5; 5/9] END ........neuron1=8, neuron2=4;, score=-0.004 total time=  26.5s\n",
      "[CV 5/5; 5/9] START neuron1=8, neuron2=4........................................\n",
      "[CV 5/5; 5/9] END ........neuron1=8, neuron2=4;, score=-0.005 total time=  26.4s\n",
      "[CV 1/5; 6/9] START neuron1=8, neuron2=8........................................\n",
      "[CV 1/5; 6/9] END ........neuron1=8, neuron2=8;, score=-0.023 total time=  26.6s\n",
      "[CV 2/5; 6/9] START neuron1=8, neuron2=8........................................\n",
      "[CV 2/5; 6/9] END ........neuron1=8, neuron2=8;, score=-0.015 total time=  26.3s\n",
      "[CV 3/5; 6/9] START neuron1=8, neuron2=8........................................\n",
      "[CV 3/5; 6/9] END ........neuron1=8, neuron2=8;, score=-0.009 total time=  28.3s\n",
      "[CV 4/5; 6/9] START neuron1=8, neuron2=8........................................\n",
      "[CV 4/5; 6/9] END ........neuron1=8, neuron2=8;, score=-0.004 total time=  28.7s\n",
      "[CV 5/5; 6/9] START neuron1=8, neuron2=8........................................\n",
      "[CV 5/5; 6/9] END ........neuron1=8, neuron2=8;, score=-0.004 total time=  28.6s\n",
      "[CV 1/5; 7/9] START neuron1=16, neuron2=2.......................................\n",
      "[CV 1/5; 7/9] END .......neuron1=16, neuron2=2;, score=-0.018 total time=  29.0s\n",
      "[CV 2/5; 7/9] START neuron1=16, neuron2=2.......................................\n",
      "[CV 2/5; 7/9] END .......neuron1=16, neuron2=2;, score=-0.011 total time=  27.9s\n",
      "[CV 3/5; 7/9] START neuron1=16, neuron2=2.......................................\n",
      "[CV 3/5; 7/9] END .......neuron1=16, neuron2=2;, score=-0.010 total time=  27.4s\n",
      "[CV 4/5; 7/9] START neuron1=16, neuron2=2.......................................\n",
      "[CV 4/5; 7/9] END .......neuron1=16, neuron2=2;, score=-0.004 total time=  30.2s\n",
      "[CV 5/5; 7/9] START neuron1=16, neuron2=2.......................................\n",
      "[CV 5/5; 7/9] END .......neuron1=16, neuron2=2;, score=-0.005 total time=  28.3s\n",
      "[CV 1/5; 8/9] START neuron1=16, neuron2=4.......................................\n",
      "[CV 1/5; 8/9] END .......neuron1=16, neuron2=4;, score=-0.015 total time=  27.1s\n",
      "[CV 2/5; 8/9] START neuron1=16, neuron2=4.......................................\n",
      "[CV 2/5; 8/9] END .......neuron1=16, neuron2=4;, score=-0.013 total time=  27.4s\n",
      "[CV 3/5; 8/9] START neuron1=16, neuron2=4.......................................\n",
      "[CV 3/5; 8/9] END .......neuron1=16, neuron2=4;, score=-0.011 total time=  27.9s\n",
      "[CV 4/5; 8/9] START neuron1=16, neuron2=4.......................................\n",
      "[CV 4/5; 8/9] END .......neuron1=16, neuron2=4;, score=-0.003 total time=  27.5s\n",
      "[CV 5/5; 8/9] START neuron1=16, neuron2=4.......................................\n",
      "[CV 5/5; 8/9] END .......neuron1=16, neuron2=4;, score=-0.004 total time=  27.6s\n",
      "[CV 1/5; 9/9] START neuron1=16, neuron2=8.......................................\n",
      "[CV 1/5; 9/9] END .......neuron1=16, neuron2=8;, score=-0.013 total time=  27.6s\n",
      "[CV 2/5; 9/9] START neuron1=16, neuron2=8.......................................\n",
      "[CV 2/5; 9/9] END .......neuron1=16, neuron2=8;, score=-0.010 total time=  28.0s\n",
      "[CV 3/5; 9/9] START neuron1=16, neuron2=8.......................................\n",
      "[CV 3/5; 9/9] END .......neuron1=16, neuron2=8;, score=-0.008 total time=  28.0s\n",
      "[CV 4/5; 9/9] START neuron1=16, neuron2=8.......................................\n",
      "[CV 4/5; 9/9] END .......neuron1=16, neuron2=8;, score=-0.003 total time=  28.0s\n",
      "[CV 5/5; 9/9] START neuron1=16, neuron2=8.......................................\n",
      "[CV 5/5; 9/9] END .......neuron1=16, neuron2=8;, score=-0.003 total time=  28.2s\n"
     ]
    }
   ],
   "source": [
    "# Defining the model\n",
    "\n",
    "def create_model(neuron1,neuron2):\n",
    "    model = Sequential()\n",
    "    model.add(Dense(neuron1,input_dim = 4,kernel_initializer = 'uniform',activation = 'relu'))\n",
    "    model.add(Dropout(0.0))\n",
    "    model.add(Dense(neuron2,input_dim = neuron1,kernel_initializer = 'uniform',activation = 'relu'))\n",
    "    model.add(Dropout(0.0))\n",
    "    model.add(Dense(1,activation = 'linear'))\n",
    "    \n",
    "    adam = Adam(lr = 0.001)\n",
    "    model.compile(loss = 'mean_squared_error',optimizer = adam,metrics = ['MeanSquaredError'])\n",
    "    return model\n",
    "\n",
    "# Create the model\n",
    "\n",
    "model = KerasRegressor(build_fn = create_model,verbose = 0,batch_size = 512,epochs = 10)\n",
    "\n",
    "# Define the grid search parameters\n",
    "\n",
    "neuron1 = [4,8,16]\n",
    "neuron2 = [2,4,8]\n",
    "\n",
    "# Make a dictionary of the grid search parameters\n",
    "\n",
    "param_grids = dict(neuron1 = neuron1,neuron2 = neuron2)\n",
    "\n",
    "# Build and fit the GridSearchCV\n",
    "\n",
    "grid = GridSearchCV(estimator = model,param_grid = param_grids,cv = KFold(),verbose = 10)\n",
    "grid_result = grid.fit(X,y) "
   ]
  },
  {
   "cell_type": "code",
   "execution_count": 14,
   "id": "3d208653",
   "metadata": {
    "ExecuteTime": {
     "end_time": "2023-07-06T11:39:39.291206Z",
     "start_time": "2023-07-06T11:39:39.283211Z"
    }
   },
   "outputs": [
    {
     "name": "stdout",
     "output_type": "stream",
     "text": [
      "Best : -0.007431094627827406, using {'neuron1': 16, 'neuron2': 8}\n",
      "-0.2700413757935166,0.49867164383993834 with: {'neuron1': 4, 'neuron2': 2}\n",
      "-0.2675015553832054,0.4986998657720065 with: {'neuron1': 4, 'neuron2': 4}\n",
      "-0.012919394019991159,0.007862855082191896 with: {'neuron1': 4, 'neuron2': 8}\n",
      "-0.012671103328466415,0.009311477078626867 with: {'neuron1': 8, 'neuron2': 2}\n",
      "-0.014470367599278689,0.011279147271103395 with: {'neuron1': 8, 'neuron2': 4}\n",
      "-0.01093575549311936,0.0073980470892998015 with: {'neuron1': 8, 'neuron2': 8}\n",
      "-0.009496532939374447,0.005273626039109796 with: {'neuron1': 16, 'neuron2': 2}\n",
      "-0.009190132981166244,0.00470936584449097 with: {'neuron1': 16, 'neuron2': 4}\n",
      "-0.007431094627827406,0.0038543359770113294 with: {'neuron1': 16, 'neuron2': 8}\n"
     ]
    }
   ],
   "source": [
    "# Summarize the results\n",
    "print('Best : {}, using {}'.format(grid_result.best_score_,grid_result.best_params_))\n",
    "means = grid_result.cv_results_['mean_test_score']\n",
    "stds = grid_result.cv_results_['std_test_score']\n",
    "params = grid_result.cv_results_['params']\n",
    "for mean, stdev, param in zip(means, stds, params):\n",
    "  print('{},{} with: {}'.format(mean, stdev, param)) "
   ]
  },
  {
   "cell_type": "markdown",
   "id": "b65fae65",
   "metadata": {},
   "source": [
    "#### Training model with optimum values of Hyperparameters"
   ]
  },
  {
   "cell_type": "code",
   "execution_count": 15,
   "id": "e60070a9",
   "metadata": {
    "ExecuteTime": {
     "end_time": "2023-07-06T11:40:56.110126Z",
     "start_time": "2023-07-06T11:40:21.450913Z"
    }
   },
   "outputs": [
    {
     "name": "stdout",
     "output_type": "stream",
     "text": [
      "0.0054435335435230135\n",
      "0.9950255083370564\n"
     ]
    }
   ],
   "source": [
    "from sklearn.metrics import classification_report, accuracy_score, confusion_matrix, mean_squared_error, r2_score\n",
    "\n",
    "# Defining the model\n",
    "\n",
    "def create_model():\n",
    "    model = Sequential()\n",
    "    model.add(Dense(16,input_dim = 4,kernel_initializer = 'uniform',activation = 'relu'))\n",
    "    model.add(Dropout(0.0))\n",
    "    model.add(Dense(8,input_dim = 4,kernel_initializer = 'uniform',activation = 'relu'))\n",
    "    model.add(Dropout(0.0))\n",
    "    model.add(Dense(1,activation = 'linear'))\n",
    "    \n",
    "    adam = Adam(lr = 0.001) #sgd = SGD(lr=learning_rate, momentum=momentum, decay=decay_rate, nesterov=False)\n",
    "    model.compile(loss = 'mean_squared_error',optimizer = adam,metrics = ['MeanSquaredError'])\n",
    "    return model\n",
    "\n",
    "# Create the model\n",
    "\n",
    "model = KerasRegressor(build_fn = create_model,verbose = 0,batch_size = 512,epochs = 10)\n",
    "\n",
    "# Fitting the model\n",
    "\n",
    "model.fit(X,y)\n",
    "\n",
    "# Predicting using trained model\n",
    "\n",
    "y_predict = model.predict(X)\n",
    "\n",
    "# Printing the metrics\n",
    "print(mean_squared_error(y, y_predict))\n",
    "print(r2_score(y, y_predict))"
   ]
  },
  {
   "cell_type": "code",
   "execution_count": null,
   "id": "f8031fdf",
   "metadata": {},
   "outputs": [],
   "source": []
  }
 ],
 "metadata": {
  "kernelspec": {
   "display_name": "Python 3 (ipykernel)",
   "language": "python",
   "name": "python3"
  },
  "language_info": {
   "codemirror_mode": {
    "name": "ipython",
    "version": 3
   },
   "file_extension": ".py",
   "mimetype": "text/x-python",
   "name": "python",
   "nbconvert_exporter": "python",
   "pygments_lexer": "ipython3",
   "version": "3.10.9"
  },
  "varInspector": {
   "cols": {
    "lenName": 16,
    "lenType": 16,
    "lenVar": 40
   },
   "kernels_config": {
    "python": {
     "delete_cmd_postfix": "",
     "delete_cmd_prefix": "del ",
     "library": "var_list.py",
     "varRefreshCmd": "print(var_dic_list())"
    },
    "r": {
     "delete_cmd_postfix": ") ",
     "delete_cmd_prefix": "rm(",
     "library": "var_list.r",
     "varRefreshCmd": "cat(var_dic_list()) "
    }
   },
   "types_to_exclude": [
    "module",
    "function",
    "builtin_function_or_method",
    "instance",
    "_Feature"
   ],
   "window_display": false
  }
 },
 "nbformat": 4,
 "nbformat_minor": 5
}
